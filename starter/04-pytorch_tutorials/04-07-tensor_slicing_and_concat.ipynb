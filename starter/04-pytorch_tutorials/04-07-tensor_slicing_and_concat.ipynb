{
 "metadata": {
  "language_info": {
   "codemirror_mode": {
    "name": "ipython",
    "version": 3
   },
   "file_extension": ".py",
   "mimetype": "text/x-python",
   "name": "python",
   "nbconvert_exporter": "python",
   "pygments_lexer": "ipython3",
   "version": "3.7.7"
  },
  "orig_nbformat": 2,
  "kernelspec": {
   "name": "python3",
   "display_name": "Python 3",
   "language": "python"
  }
 },
 "nbformat": 4,
 "nbformat_minor": 2,
 "cells": [
  {
   "source": [
    "# PyTorch Tensor Slicing and Concatenation"
   ],
   "cell_type": "markdown",
   "metadata": {}
  },
  {
   "cell_type": "code",
   "execution_count": 1,
   "metadata": {},
   "outputs": [],
   "source": [
    "import torch"
   ]
  },
  {
   "source": [
    "## Slicing and Concatenation"
   ],
   "cell_type": "markdown",
   "metadata": {}
  },
  {
   "source": [
    "### Indexing and Slicing\n",
    "\n",
    "Prepare target tensor."
   ],
   "cell_type": "markdown",
   "metadata": {}
  },
  {
   "cell_type": "code",
   "execution_count": 2,
   "metadata": {},
   "outputs": [
    {
     "output_type": "stream",
     "name": "stdout",
     "text": [
      "torch.Size([3, 2, 2])\n"
     ]
    }
   ],
   "source": [
    "x = torch.FloatTensor([[[1, 2],\n",
    "                        [3, 4]],\n",
    "                       [[5, 6],\n",
    "                        [7, 8]],\n",
    "                       [[9, 10],\n",
    "                        [10, 11]]])\n",
    "\n",
    "print(x.size())"
   ]
  },
  {
   "source": [
    "Access to certain dimension."
   ],
   "cell_type": "markdown",
   "metadata": {}
  },
  {
   "cell_type": "code",
   "execution_count": 3,
   "metadata": {},
   "outputs": [
    {
     "output_type": "stream",
     "name": "stdout",
     "text": [
      "tensor([[1., 2.],\n        [3., 4.]])\ntensor([[1., 2.],\n        [3., 4.]])\ntensor([[1., 2.],\n        [3., 4.]])\n"
     ]
    }
   ],
   "source": [
    "print(x[0])\n",
    "print(x[0, :])\n",
    "print(x[0, :, :])"
   ]
  },
  {
   "cell_type": "code",
   "execution_count": 4,
   "metadata": {},
   "outputs": [
    {
     "output_type": "stream",
     "name": "stdout",
     "text": [
      "tensor([[ 9., 10.],\n        [10., 11.]])\ntensor([[ 9., 10.],\n        [10., 11.]])\ntensor([[ 9., 10.],\n        [10., 11.]])\n"
     ]
    }
   ],
   "source": [
    "print(x[-1])\n",
    "print(x[-1, :])\n",
    "print(x[-1, :, :])"
   ]
  },
  {
   "cell_type": "code",
   "execution_count": 5,
   "metadata": {},
   "outputs": [
    {
     "output_type": "stream",
     "name": "stdout",
     "text": [
      "tensor([[ 1.,  2.],\n        [ 5.,  6.],\n        [ 9., 10.]])\ntorch.Size([3, 2])\n"
     ]
    }
   ],
   "source": [
    "print(x[:, 0, :])\n",
    "print(x[:, 0, :].size())"
   ]
  },
  {
   "source": [
    "Access by range. Note that the number of dimensions would not be changed."
   ],
   "cell_type": "markdown",
   "metadata": {}
  },
  {
   "cell_type": "code",
   "execution_count": 6,
   "metadata": {},
   "outputs": [
    {
     "output_type": "stream",
     "name": "stdout",
     "text": [
      "torch.Size([2, 2, 2])\ntorch.Size([3, 1, 2])\ntorch.Size([3, 1, 2])\n"
     ]
    }
   ],
   "source": [
    "print(x[1:3, :, :].size())\n",
    "print(x[:, :1, :].size())\n",
    "print(x[:, :-1, :].size())"
   ]
  },
  {
   "source": [
    "### split: Split tensor to desirable shapes."
   ],
   "cell_type": "markdown",
   "metadata": {}
  },
  {
   "cell_type": "code",
   "execution_count": 7,
   "metadata": {},
   "outputs": [],
   "source": [
    "x = torch.FloatTensor(10, 4)"
   ]
  },
  {
   "cell_type": "code",
   "execution_count": 9,
   "metadata": {},
   "outputs": [
    {
     "output_type": "stream",
     "name": "stdout",
     "text": [
      "torch.Size([4, 4])\ntorch.Size([4, 4])\ntorch.Size([2, 4])\n"
     ]
    }
   ],
   "source": [
    "splits = x.split(4, dim=0)\n",
    "\n",
    "for s in splits:\n",
    "    print(s.size())"
   ]
  },
  {
   "source": [
    "### chunk: Split tensor to number of chunks."
   ],
   "cell_type": "markdown",
   "metadata": {}
  },
  {
   "cell_type": "code",
   "execution_count": 10,
   "metadata": {},
   "outputs": [],
   "source": [
    "x = torch.FloatTensor(8, 4)"
   ]
  },
  {
   "cell_type": "code",
   "execution_count": 11,
   "metadata": {},
   "outputs": [
    {
     "output_type": "stream",
     "name": "stdout",
     "text": [
      "torch.Size([3, 4])\ntorch.Size([3, 4])\ntorch.Size([2, 4])\n"
     ]
    }
   ],
   "source": [
    "chunks = x.chunk(3, dim=0)\n",
    "\n",
    "for c in chunks:\n",
    "    print(c.size())"
   ]
  },
  {
   "source": [
    "### index_select: Select elements by using dimension index."
   ],
   "cell_type": "markdown",
   "metadata": {}
  },
  {
   "cell_type": "code",
   "execution_count": 12,
   "metadata": {},
   "outputs": [
    {
     "output_type": "stream",
     "name": "stdout",
     "text": [
      "torch.Size([3, 2, 2])\n"
     ]
    }
   ],
   "source": [
    "x = torch.FloatTensor([[[1, 1],\n",
    "                        [2, 2]],\n",
    "                       [[3, 3],\n",
    "                        [4, 4]],\n",
    "                       [[5, 5],\n",
    "                        [6, 6]]])\n",
    "indice = torch.LongTensor([2, 1])\n",
    "\n",
    "print(x.size())"
   ]
  },
  {
   "cell_type": "code",
   "execution_count": 13,
   "metadata": {},
   "outputs": [
    {
     "output_type": "stream",
     "name": "stdout",
     "text": [
      "tensor([[[5., 5.],\n         [6., 6.]],\n\n        [[3., 3.],\n         [4., 4.]]])\ntorch.Size([2, 2, 2])\n"
     ]
    }
   ],
   "source": [
    "y = x.index_select(dim=0, index=indice)\n",
    "\n",
    "print(y)\n",
    "print(y.size())"
   ]
  },
  {
   "source": [
    "### cat: Concatenation of multiple tensors in the list."
   ],
   "cell_type": "markdown",
   "metadata": {}
  },
  {
   "cell_type": "code",
   "execution_count": 14,
   "metadata": {},
   "outputs": [
    {
     "output_type": "stream",
     "name": "stdout",
     "text": [
      "torch.Size([3, 3]) torch.Size([3, 3])\n"
     ]
    }
   ],
   "source": [
    "x = torch.FloatTensor([[1, 2, 3],\n",
    "                       [4, 5, 6],\n",
    "                       [7, 8, 9]])\n",
    "y = torch.FloatTensor([[10, 11, 12],\n",
    "                       [13, 14, 15],\n",
    "                       [16, 17, 18]])\n",
    "print(x.size(), y.size())"
   ]
  },
  {
   "cell_type": "code",
   "execution_count": 15,
   "metadata": {},
   "outputs": [
    {
     "output_type": "stream",
     "name": "stdout",
     "text": [
      "tensor([[ 1.,  2.,  3.],\n        [ 4.,  5.,  6.],\n        [ 7.,  8.,  9.],\n        [10., 11., 12.],\n        [13., 14., 15.],\n        [16., 17., 18.]])\ntorch.Size([6, 3])\n"
     ]
    }
   ],
   "source": [
    "z = torch.cat([x, y], dim=0)\n",
    "\n",
    "print(z)\n",
    "print(z.size())"
   ]
  },
  {
   "cell_type": "code",
   "execution_count": 16,
   "metadata": {},
   "outputs": [
    {
     "output_type": "stream",
     "name": "stdout",
     "text": [
      "tensor([[ 1.,  2.,  3., 10., 11., 12.],\n        [ 4.,  5.,  6., 13., 14., 15.],\n        [ 7.,  8.,  9., 16., 17., 18.]])\ntorch.Size([3, 6])\n"
     ]
    }
   ],
   "source": [
    "z = torch.cat([x, y], dim=-1)\n",
    "\n",
    "print(z)\n",
    "print(z.size())"
   ]
  },
  {
   "source": [
    "### stack: Stacking of multiple tensors in the list."
   ],
   "cell_type": "markdown",
   "metadata": {}
  },
  {
   "cell_type": "code",
   "execution_count": 17,
   "metadata": {},
   "outputs": [
    {
     "output_type": "stream",
     "name": "stdout",
     "text": [
      "tensor([[[ 1.,  2.,  3.],\n         [ 4.,  5.,  6.],\n         [ 7.,  8.,  9.]],\n\n        [[10., 11., 12.],\n         [13., 14., 15.],\n         [16., 17., 18.]]])\ntorch.Size([2, 3, 3])\n"
     ]
    }
   ],
   "source": [
    "z = torch.stack([x, y])\n",
    "\n",
    "print(z)\n",
    "print(z.size())"
   ]
  },
  {
   "source": [
    "Or you can specify the dimensions. Default is 0."
   ],
   "cell_type": "markdown",
   "metadata": {}
  },
  {
   "cell_type": "code",
   "execution_count": 18,
   "metadata": {},
   "outputs": [
    {
     "output_type": "stream",
     "name": "stdout",
     "text": [
      "tensor([[[ 1., 10.],\n         [ 2., 11.],\n         [ 3., 12.]],\n\n        [[ 4., 13.],\n         [ 5., 14.],\n         [ 6., 15.]],\n\n        [[ 7., 16.],\n         [ 8., 17.],\n         [ 9., 18.]]])\ntorch.Size([3, 3, 2])\n"
     ]
    }
   ],
   "source": [
    "z = torch.stack([x, y], dim=-1)\n",
    "\n",
    "print(z)\n",
    "print(z.size())"
   ]
  },
  {
   "source": [
    "### Implement 'stack' function by using 'cat'."
   ],
   "cell_type": "markdown",
   "metadata": {}
  },
  {
   "cell_type": "code",
   "execution_count": 19,
   "metadata": {},
   "outputs": [
    {
     "output_type": "stream",
     "name": "stdout",
     "text": [
      "tensor([[[ 1.,  2.,  3.],\n         [ 4.,  5.,  6.],\n         [ 7.,  8.,  9.]],\n\n        [[10., 11., 12.],\n         [13., 14., 15.],\n         [16., 17., 18.]]])\ntorch.Size([2, 3, 3])\n"
     ]
    }
   ],
   "source": [
    "# z = torch.stack([x, y])\n",
    "z = torch.cat([x.unsqueeze(0), y.unsqueeze(0)], dim=0)\n",
    "\n",
    "print(z)\n",
    "print(z.size())"
   ]
  },
  {
   "source": [
    "### Useful Trick: Merge results from iterations"
   ],
   "cell_type": "markdown",
   "metadata": {}
  },
  {
   "cell_type": "code",
   "execution_count": 20,
   "metadata": {},
   "outputs": [
    {
     "output_type": "execute_result",
     "data": {
      "text/plain": [
       "torch.Size([5, 2, 2])"
      ]
     },
     "metadata": {},
     "execution_count": 20
    }
   ],
   "source": [
    "result = []\n",
    "for i in range(5):\n",
    "    x = torch.FloatTensor(2, 2)\n",
    "    result += [x]\n",
    "\n",
    "result = torch.stack(result)\n",
    "result.size()"
   ]
  },
  {
   "cell_type": "code",
   "execution_count": null,
   "metadata": {},
   "outputs": [],
   "source": []
  }
 ]
}